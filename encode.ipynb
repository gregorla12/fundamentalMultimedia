{
 "cells": [
  {
   "cell_type": "code",
   "outputs": [],
   "source": [
    "from scipy.fftpack import dct\n",
    "import cv2 as cv2"
   ],
   "metadata": {
    "collapsed": false,
    "ExecuteTime": {
     "end_time": "2024-02-04T17:57:02.388464100Z",
     "start_time": "2024-02-04T17:57:02.271226500Z"
    }
   },
   "id": "b20f1f59fd20345a",
   "execution_count": 17
  },
  {
   "cell_type": "code",
   "execution_count": 18,
   "id": "initial_id",
   "metadata": {
    "collapsed": true,
    "ExecuteTime": {
     "end_time": "2024-02-04T17:57:02.444866700Z",
     "start_time": "2024-02-04T17:57:02.371787700Z"
    }
   },
   "outputs": [],
   "source": [
    "compression_level=0.01#1 means no compression, the smaller, the more compression. Must be greater than 0"
   ]
  },
  {
   "cell_type": "code",
   "outputs": [],
   "source": [
    "img1= cv2.imread('test.png', cv2.COLOR_BGR2RGB)#reading in the image. Please change the file path here if you wish to read another image\n",
    "\n",
    "imgYUV=cv2.cvtColor(img1,cv2.COLOR_BGR2YUV)\n",
    "\n",
    "#store size for later use\n",
    "size0=img1.shape[0]\n",
    "size1=img1.shape[1]"
   ],
   "metadata": {
    "collapsed": false,
    "ExecuteTime": {
     "end_time": "2024-02-04T17:57:02.503618600Z",
     "start_time": "2024-02-04T17:57:02.414836700Z"
    }
   },
   "id": "aefb3a9364900121",
   "execution_count": 19
  },
  {
   "cell_type": "code",
   "outputs": [],
   "source": [
    "def dct2(a):#a simple helper function for dct2\n",
    "    return dct(dct(a.T, norm='ortho').T, norm='ortho')\n"
   ],
   "metadata": {
    "collapsed": false,
    "ExecuteTime": {
     "end_time": "2024-02-04T17:57:02.586599900Z",
     "start_time": "2024-02-04T17:57:02.492714Z"
    }
   },
   "id": "bed24f5f8338bd3b",
   "execution_count": 20
  },
  {
   "cell_type": "code",
   "outputs": [],
   "source": [
    "#this function is used to encode a channel of the image using dct\n",
    "def chanel_compression(image, compression_level_function):\n",
    "    img_dct=dct2(image)\n",
    "    img_dct[compression_level_function:, compression_level_function:]=0\n",
    "    return img_dct\n",
    "    "
   ],
   "metadata": {
    "collapsed": false,
    "ExecuteTime": {
     "end_time": "2024-02-04T17:57:02.631990300Z",
     "start_time": "2024-02-04T17:57:02.519426300Z"
    }
   },
   "id": "2f84425a57cbc47a",
   "execution_count": 21
  },
  {
   "cell_type": "code",
   "outputs": [],
   "source": [
    "encoded_y=dct2(imgYUV[:, :, 0].copy())\n",
    "encoded_u=chanel_compression(imgYUV[:, :, 1].copy(), int(size0 * compression_level))\n",
    "encoded_v=chanel_compression(imgYUV[:, :, 2].copy(), int(size0 * compression_level))"
   ],
   "metadata": {
    "collapsed": false,
    "ExecuteTime": {
     "end_time": "2024-02-04T17:57:02.757171900Z",
     "start_time": "2024-02-04T17:57:02.564078200Z"
    }
   },
   "id": "c09a2be07d2bdf8d",
   "execution_count": 22
  },
  {
   "cell_type": "markdown",
   "source": [
    "# huffman encoding\n",
    "for this to work, please install the package dahuffman. pip install huffman"
   ],
   "metadata": {
    "collapsed": false
   },
   "id": "af47f2d500092bb7"
  },
  {
   "cell_type": "code",
   "outputs": [
    {
     "name": "stdout",
     "output_type": "stream",
     "text": [
      "huffman encoding running for layer y\n",
      "huffman encoding running for layer u\n",
      "huffman encoding running for layer v\n"
     ]
    }
   ],
   "source": [
    "from dahuffman import HuffmanCodec\n",
    "\n",
    "#encode y\n",
    "print(\"huffman encoding running for layer y\")\n",
    "list_y=list(encoded_y.flatten())#convert the 2d-image layer to a list. This is necessaryas huffman requires a list as input\n",
    "code_y=HuffmanCodec.from_data(list_y)#create the code book\n",
    "h_encoded_y=code_y.encode(list_y)#encode using the generated code book\n",
    "\n",
    "#encode u\n",
    "print(\"huffman encoding running for layer u\")\n",
    "list_u=list(encoded_u.flatten())#convert the 2d-image layer to a list. This is necessaryas huffman requires a list as input\n",
    "code_u=HuffmanCodec.from_data(list_u)#create the code book\n",
    "h_encoded_u=code_u.encode(list_u)#encode using the generated code book\n",
    "\n",
    "#encode v\n",
    "print(\"huffman encoding running for layer v\")\n",
    "list_v=list(encoded_v.flatten())#convert the 2d-image layer to a list. This is necessaryas huffman requires a list as input\n",
    "code_v=HuffmanCodec.from_data(list_v)#create the code book\n",
    "h_encoded_v=code_v.encode(list_v)#encode using the generated code book\n"
   ],
   "metadata": {
    "collapsed": false,
    "ExecuteTime": {
     "end_time": "2024-02-04T17:57:39.729476300Z",
     "start_time": "2024-02-04T17:57:02.690479500Z"
    }
   },
   "id": "32fea93aa0d79c80",
   "execution_count": 23
  },
  {
   "cell_type": "markdown",
   "source": [
    "# store everything to disk"
   ],
   "metadata": {
    "collapsed": false
   },
   "id": "56698508af1ec99a"
  },
  {
   "cell_type": "code",
   "outputs": [],
   "source": [
    "class CompressedImage:\n",
    "    def __init__(self,size0, size1, code_y,code_u,code_v,h_encoded_y,h_encoded_u,h_encoded_v ):\n",
    "        self.size0=size0\n",
    "        self.size1=size1\n",
    "        \n",
    "        self.code_y=code_y\n",
    "        self.code_u=code_u\n",
    "        self.code_v=code_v\n",
    "        \n",
    "        self.h_encoded_y=h_encoded_y\n",
    "        self.h_encoded_u=h_encoded_u\n",
    "        self.h_encoded_v=h_encoded_v\n",
    "    "
   ],
   "metadata": {
    "collapsed": false,
    "ExecuteTime": {
     "end_time": "2024-02-04T17:57:39.828265200Z",
     "start_time": "2024-02-04T17:57:39.746313900Z"
    }
   },
   "id": "52c5a7c28c029f24",
   "execution_count": 24
  },
  {
   "cell_type": "code",
   "outputs": [],
   "source": [
    "compressed_image=CompressedImage(size0, size1, code_y,code_u,code_v,h_encoded_y,h_encoded_u,h_encoded_v )"
   ],
   "metadata": {
    "collapsed": false,
    "ExecuteTime": {
     "end_time": "2024-02-04T17:57:40.021565700Z",
     "start_time": "2024-02-04T17:57:39.796555800Z"
    }
   },
   "id": "15aa8521cd8cbe4a",
   "execution_count": 25
  },
  {
   "cell_type": "code",
   "outputs": [],
   "source": [
    "#for optimal performance, use cPickle if available. If not, use pickle\n",
    "try:\n",
    "    import cPickle as pickle\n",
    "except ModuleNotFoundError:\n",
    "    import pickle\n",
    "\n",
    "with open(\"test.bin\", 'wb') as outp:  \n",
    "    pickle.dump(compressed_image, outp, pickle.HIGHEST_PROTOCOL)\n"
   ],
   "metadata": {
    "collapsed": false,
    "ExecuteTime": {
     "end_time": "2024-02-04T17:57:46.281195600Z",
     "start_time": "2024-02-04T17:57:40.021565700Z"
    }
   },
   "id": "ad888fa693601d07",
   "execution_count": 26
  }
 ],
 "metadata": {
  "kernelspec": {
   "display_name": "Python 3",
   "language": "python",
   "name": "python3"
  },
  "language_info": {
   "codemirror_mode": {
    "name": "ipython",
    "version": 2
   },
   "file_extension": ".py",
   "mimetype": "text/x-python",
   "name": "python",
   "nbconvert_exporter": "python",
   "pygments_lexer": "ipython2",
   "version": "2.7.6"
  }
 },
 "nbformat": 4,
 "nbformat_minor": 5
}
